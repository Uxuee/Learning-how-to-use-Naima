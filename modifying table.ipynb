{
 "cells": [
  {
   "cell_type": "code",
   "execution_count": 1,
   "metadata": {},
   "outputs": [
    {
     "name": "stdout",
     "output_type": "stream",
     "text": [
      "[1.65e-10 1.88e+15 1.42e+15 2.33e+15]\n"
     ]
    }
   ],
   "source": [
    "import numpy as np\n",
    "\n",
    "data = np.loadtxt( 'C:/Users/Ariadna/Desktop/SED/new/data.txt')\n",
    "\n"
   ]
  },
  {
   "cell_type": "code",
   "execution_count": 2,
   "metadata": {},
   "outputs": [
    {
     "name": "stdout",
     "output_type": "stream",
     "text": [
      "  energy          flux          flux_error_lo      flux_error_hi   \n",
      "   keV      1 / (cm2 keV s)    1 / (cm2 keV s)    1 / (cm2 s TeV)  \n",
      "---------- ------------------ ------------------ ------------------\n",
      "  7.36e-11 8140000000000000.0 6010000000000000.0           1.05e+16\n",
      "  1.65e-10 1880000000000000.0 1420000000000000.0 2330000000000000.0\n",
      "  4.12e-10  506000000000000.0  349000000000000.0  646000000000000.0\n",
      "  8.07e-10  153000000000000.0  127000000000000.0  182000000000000.0\n",
      "  1.64e-09   55000000000000.0   47800000000000.0   63400000000000.0\n",
      "  3.14e-09   23600000000000.0   21300000000000.0   27200000000000.0\n",
      "  6.12e-09   10600000000000.0    7890000000000.0   12500000000000.0\n",
      "  1.07e-08    5990000000000.0    4980000000000.0    6630000000000.0\n",
      "  2.03e-08    2820000000000.0    2430000000000.0    3870000000000.0\n",
      "  3.31e-08    1660000000000.0    1130000000000.0    2270000000000.0\n",
      "       ...                ...                ...                ...\n",
      "     500.0            8.6e-07           2.26e-07           2.15e-06\n",
      "    1000.0           2.59e-07           7.45e-08           7.59e-07\n",
      "    3000.0           3.73e-08           2.06e-08           5.89e-08\n",
      "   10000.0           2.67e-09           1.83e-09           3.85e-09\n",
      "   30000.0           1.66e-10           3.01e-11           4.66e-10\n",
      "  100000.0           5.45e-12           1.44e-12           2.04e-11\n",
      "  300000.0           4.16e-13            1.1e-13           1.17e-12\n",
      " 1000000.0           2.08e-14           3.77e-15           5.11e-14\n",
      " 3000000.0           1.48e-15           1.51e-16           3.24e-15\n",
      "10000000.0           8.58e-17           4.44e-18           2.29e-16\n",
      "Length = 70 rows\n"
     ]
    }
   ],
   "source": [
    "from astropy.table import Table\n",
    "\n",
    "t = Table([data[:,0],data[:, 1],data[:,2],data[:,3]], names=['energy', 'flux','flux_error_lo','flux_error_hi'])\n",
    "t['energy'].unit = 'keV'\n",
    "t['flux'].unit = '1 /(cm2 s keV)'\n",
    "t['flux_error_lo'].unit = '1/ (cm2 s keV)'\n",
    "t['flux_error_hi'].unit = '1 / (cm2 s TeV)'\n",
    "print(t)"
   ]
  },
  {
   "cell_type": "code",
   "execution_count": 3,
   "metadata": {},
   "outputs": [
    {
     "name": "stderr",
     "output_type": "stream",
     "text": [
      "WARNING: AstropyDeprecationWarning: formato.ecsv already exists. Automatically overwriting ASCII files is deprecated. Use the argument 'overwrite=True' in the future. [astropy.io.ascii.ui]\n"
     ]
    }
   ],
   "source": [
    "t.write('formato.ecsv', format='ascii.ecsv')"
   ]
  },
  {
   "cell_type": "code",
   "execution_count": 4,
   "metadata": {},
   "outputs": [
    {
     "name": "stderr",
     "output_type": "stream",
     "text": [
      "C:\\Users\\Ariadna\\Anaconda3\\lib\\site-packages\\h5py\\__init__.py:36: FutureWarning: Conversion of the second argument of issubdtype from `float` to `np.floating` is deprecated. In future, it will be treated as `np.float64 == np.dtype(float).type`.\n",
      "  from ._conv import register_converters as _register_converters\n"
     ]
    }
   ],
   "source": [
    "import numpy as np\n",
    "from astropy.io import ascii\n",
    "import naima\n",
    "\n",
    "data = ascii.read(\"formato.ecsv\")\n",
    "soft_xray = ascii.read(\"formato.ecsv\")[::5]\n",
    "vhe = ascii.read(\"formato.ecsv\")"
   ]
  },
  {
   "cell_type": "code",
   "execution_count": 5,
   "metadata": {},
   "outputs": [
    {
     "name": "stdout",
     "output_type": "stream",
     "text": [
      "  energy          flux          flux_error_lo      flux_error_hi   \n",
      "   keV      1 / (cm2 keV s)    1 / (cm2 keV s)    1 / (cm2 s TeV)  \n",
      "---------- ------------------ ------------------ ------------------\n",
      "  7.36e-11 8140000000000000.0 6010000000000000.0           1.05e+16\n",
      "  1.65e-10 1880000000000000.0 1420000000000000.0 2330000000000000.0\n",
      "  4.12e-10  506000000000000.0  349000000000000.0  646000000000000.0\n",
      "  8.07e-10  153000000000000.0  127000000000000.0  182000000000000.0\n",
      "  1.64e-09   55000000000000.0   47800000000000.0   63400000000000.0\n",
      "  3.14e-09   23600000000000.0   21300000000000.0   27200000000000.0\n",
      "  6.12e-09   10600000000000.0    7890000000000.0   12500000000000.0\n",
      "  1.07e-08    5990000000000.0    4980000000000.0    6630000000000.0\n",
      "  2.03e-08    2820000000000.0    2430000000000.0    3870000000000.0\n",
      "  3.31e-08    1660000000000.0    1130000000000.0    2270000000000.0\n",
      "       ...                ...                ...                ...\n",
      "     500.0            8.6e-07           2.26e-07           2.15e-06\n",
      "    1000.0           2.59e-07           7.45e-08           7.59e-07\n",
      "    3000.0           3.73e-08           2.06e-08           5.89e-08\n",
      "   10000.0           2.67e-09           1.83e-09           3.85e-09\n",
      "   30000.0           1.66e-10           3.01e-11           4.66e-10\n",
      "  100000.0           5.45e-12           1.44e-12           2.04e-11\n",
      "  300000.0           4.16e-13            1.1e-13           1.17e-12\n",
      " 1000000.0           2.08e-14           3.77e-15           5.11e-14\n",
      " 3000000.0           1.48e-15           1.51e-16           3.24e-15\n",
      "10000000.0           8.58e-17           4.44e-18           2.29e-16\n",
      "Length = 70 rows\n"
     ]
    }
   ],
   "source": [
    "print(data)"
   ]
  },
  {
   "cell_type": "code",
   "execution_count": 11,
   "metadata": {},
   "outputs": [],
   "source": [
    "from naima.models import ExponentialCutoffPowerLaw, InverseCompton,Synchrotron\n",
    "\n",
    "def ElectronSynIC(pars, data):\n",
    "\n",
    "    # Match parameters to ECPL properties, and give them the appropriate units\n",
    "    amplitude = 10 ** pars[0] / u.eV\n",
    "    alpha = pars[1]\n",
    "    e_cutoff = (10 ** pars[2]) * u.TeV\n",
    "    B = pars[3] * u.uG\n",
    "\n",
    "    # Initialize instances of the particle distribution and radiative models\n",
    "    ECPL = ExponentialCutoffPowerLaw(amplitude, 10.0 * u.TeV, alpha, e_cutoff)\n",
    "    # Compute IC on CMB and on a FIR component with values from GALPROP for the\n",
    "    # position of RXJ1713\n",
    "    IC = InverseCompton(\n",
    "        ECPL,\n",
    "        seed_photon_fields=[\n",
    "            \"CMB\",\n",
    "            [\"FIR\", 26.5 * u.K, 0.415 * u.eV / u.cm ** 3],\n",
    "        ],\n",
    "        Eemin=100 * u.GeV,\n",
    "    )\n",
    "    SYN = Synchrotron(ECPL, B=B)\n",
    "\n",
    "    # compute flux at the energies given in data['energy']\n",
    "    model = IC.flux(data, distance=1.0 * u.kpc) + SYN.flux(\n",
    "        data, distance=1.0 * u.kpc\n",
    "    )\n",
    "\n",
    "    # The first array returned will be compared to the observed spectrum for\n",
    "    # fitting. All subsequent objects will be stored in the sampler metadata\n",
    "    # blobs.\n",
    "    return model, IC.compute_We(Eemin=1 * u.TeV)"
   ]
  },
  {
   "cell_type": "code",
   "execution_count": 12,
   "metadata": {},
   "outputs": [
    {
     "name": "stdout",
     "output_type": "stream",
     "text": [
      "INFO: Finding Maximum Likelihood parameters through Nelder-Mead fitting... [naima.core]\n",
      "INFO:    Initial parameters: [31.97005425  2.5         1.68124124  5.62109578] [naima.core]\n",
      "INFO:    Initial lnprob(p0): -8522674823183259648.000 [naima.core]\n",
      "INFO:    New ML parameters : [32.25960103  2.30642651  1.53740582  3.90729515] [naima.core]\n",
      "INFO:    Maximum lnprob(p0): -252.138 [naima.core]\n",
      "Burning in the 32 walkers with 100 steps...\n"
     ]
    },
    {
     "ename": "KeyboardInterrupt",
     "evalue": "",
     "output_type": "error",
     "traceback": [
      "\u001b[1;31m---------------------------------------------------------------------------\u001b[0m",
      "\u001b[1;31mKeyboardInterrupt\u001b[0m                         Traceback (most recent call last)",
      "\u001b[1;32m<ipython-input-12-0686b7979919>\u001b[0m in \u001b[0;36m<module>\u001b[1;34m()\u001b[0m\n\u001b[0;32m     36\u001b[0m         \u001b[0mthreads\u001b[0m\u001b[1;33m=\u001b[0m\u001b[1;36m4\u001b[0m\u001b[1;33m,\u001b[0m\u001b[1;33m\u001b[0m\u001b[0m\n\u001b[0;32m     37\u001b[0m         \u001b[0mprefit\u001b[0m\u001b[1;33m=\u001b[0m\u001b[1;32mTrue\u001b[0m\u001b[1;33m,\u001b[0m\u001b[1;33m\u001b[0m\u001b[0m\n\u001b[1;32m---> 38\u001b[1;33m         \u001b[0minteractive\u001b[0m\u001b[1;33m=\u001b[0m\u001b[1;32mFalse\u001b[0m\u001b[1;33m,\u001b[0m\u001b[1;33m\u001b[0m\u001b[0m\n\u001b[0m\u001b[0;32m     39\u001b[0m     )\n\u001b[0;32m     40\u001b[0m \u001b[1;33m\u001b[0m\u001b[0m\n",
      "\u001b[1;32m~\\Anaconda3\\lib\\site-packages\\naima\\core.py\u001b[0m in \u001b[0;36mrun_sampler\u001b[1;34m(nrun, sampler, pos, **kwargs)\u001b[0m\n\u001b[0;32m    553\u001b[0m \u001b[1;33m\u001b[0m\u001b[0m\n\u001b[0;32m    554\u001b[0m     \u001b[1;32mif\u001b[0m \u001b[0msampler\u001b[0m \u001b[1;32mis\u001b[0m \u001b[1;32mNone\u001b[0m \u001b[1;32mor\u001b[0m \u001b[0mpos\u001b[0m \u001b[1;32mis\u001b[0m \u001b[1;32mNone\u001b[0m\u001b[1;33m:\u001b[0m\u001b[1;33m\u001b[0m\u001b[0m\n\u001b[1;32m--> 555\u001b[1;33m         \u001b[0msampler\u001b[0m\u001b[1;33m,\u001b[0m \u001b[0mpos\u001b[0m \u001b[1;33m=\u001b[0m \u001b[0mget_sampler\u001b[0m\u001b[1;33m(\u001b[0m\u001b[1;33m**\u001b[0m\u001b[0mkwargs\u001b[0m\u001b[1;33m)\u001b[0m\u001b[1;33m\u001b[0m\u001b[0m\n\u001b[0m\u001b[0;32m    556\u001b[0m \u001b[1;33m\u001b[0m\u001b[0m\n\u001b[0;32m    557\u001b[0m     \u001b[0msampler\u001b[0m\u001b[1;33m.\u001b[0m\u001b[0mrun_info\u001b[0m\u001b[1;33m[\u001b[0m\u001b[1;34m\"n_run\"\u001b[0m\u001b[1;33m]\u001b[0m \u001b[1;33m=\u001b[0m \u001b[0mnrun\u001b[0m\u001b[1;33m\u001b[0m\u001b[0m\n",
      "\u001b[1;32m~\\Anaconda3\\lib\\site-packages\\naima\\core.py\u001b[0m in \u001b[0;36mget_sampler\u001b[1;34m(data_table, p0, model, prior, nwalkers, nburn, guess, interactive, prefit, labels, threads, data_sed)\u001b[0m\n\u001b[0;32m    514\u001b[0m             )\n\u001b[0;32m    515\u001b[0m         )\n\u001b[1;32m--> 516\u001b[1;33m         \u001b[0msampler\u001b[0m\u001b[1;33m,\u001b[0m \u001b[0mpos\u001b[0m \u001b[1;33m=\u001b[0m \u001b[0m_run_mcmc\u001b[0m\u001b[1;33m(\u001b[0m\u001b[0msampler\u001b[0m\u001b[1;33m,\u001b[0m \u001b[0mp0\u001b[0m\u001b[1;33m,\u001b[0m \u001b[0mnburn\u001b[0m\u001b[1;33m)\u001b[0m\u001b[1;33m\u001b[0m\u001b[0m\n\u001b[0m\u001b[0;32m    517\u001b[0m     \u001b[1;32melse\u001b[0m\u001b[1;33m:\u001b[0m\u001b[1;33m\u001b[0m\u001b[0m\n\u001b[0;32m    518\u001b[0m         \u001b[0mpos\u001b[0m \u001b[1;33m=\u001b[0m \u001b[0mp0\u001b[0m\u001b[1;33m\u001b[0m\u001b[0m\n",
      "\u001b[1;32m~\\Anaconda3\\lib\\site-packages\\naima\\core.py\u001b[0m in \u001b[0;36m_run_mcmc\u001b[1;34m(sampler, pos, nrun)\u001b[0m\n\u001b[0;32m    151\u001b[0m \u001b[1;33m\u001b[0m\u001b[0m\n\u001b[0;32m    152\u001b[0m \u001b[1;32mdef\u001b[0m \u001b[0m_run_mcmc\u001b[0m\u001b[1;33m(\u001b[0m\u001b[0msampler\u001b[0m\u001b[1;33m,\u001b[0m \u001b[0mpos\u001b[0m\u001b[1;33m,\u001b[0m \u001b[0mnrun\u001b[0m\u001b[1;33m)\u001b[0m\u001b[1;33m:\u001b[0m\u001b[1;33m\u001b[0m\u001b[0m\n\u001b[1;32m--> 153\u001b[1;33m     \u001b[1;32mfor\u001b[0m \u001b[0mi\u001b[0m\u001b[1;33m,\u001b[0m \u001b[0mout\u001b[0m \u001b[1;32min\u001b[0m \u001b[0menumerate\u001b[0m\u001b[1;33m(\u001b[0m\u001b[0msampler\u001b[0m\u001b[1;33m.\u001b[0m\u001b[0msample\u001b[0m\u001b[1;33m(\u001b[0m\u001b[0mpos\u001b[0m\u001b[1;33m,\u001b[0m \u001b[0miterations\u001b[0m\u001b[1;33m=\u001b[0m\u001b[0mnrun\u001b[0m\u001b[1;33m)\u001b[0m\u001b[1;33m)\u001b[0m\u001b[1;33m:\u001b[0m\u001b[1;33m\u001b[0m\u001b[0m\n\u001b[0m\u001b[0;32m    154\u001b[0m         \u001b[0mprogress\u001b[0m \u001b[1;33m=\u001b[0m \u001b[1;36m100.0\u001b[0m \u001b[1;33m*\u001b[0m \u001b[0mfloat\u001b[0m\u001b[1;33m(\u001b[0m\u001b[0mi\u001b[0m\u001b[1;33m)\u001b[0m \u001b[1;33m/\u001b[0m \u001b[0mfloat\u001b[0m\u001b[1;33m(\u001b[0m\u001b[0mnrun\u001b[0m\u001b[1;33m)\u001b[0m\u001b[1;33m\u001b[0m\u001b[0m\n\u001b[0;32m    155\u001b[0m         \u001b[1;32mif\u001b[0m \u001b[0mprogress\u001b[0m \u001b[1;33m%\u001b[0m \u001b[1;36m5\u001b[0m \u001b[1;33m<\u001b[0m \u001b[1;33m(\u001b[0m\u001b[1;36m5.0\u001b[0m \u001b[1;33m/\u001b[0m \u001b[0mfloat\u001b[0m\u001b[1;33m(\u001b[0m\u001b[0mnrun\u001b[0m\u001b[1;33m)\u001b[0m\u001b[1;33m)\u001b[0m\u001b[1;33m:\u001b[0m\u001b[1;33m\u001b[0m\u001b[0m\n",
      "\u001b[1;32m~\\Anaconda3\\lib\\site-packages\\emcee-2.1.0-py3.6.egg\\emcee\\ensemble.py\u001b[0m in \u001b[0;36msample\u001b[1;34m(self, p0, lnprob0, rstate0, blobs0, iterations, thin, storechain, mh_proposal)\u001b[0m\n\u001b[0;32m    196\u001b[0m         \u001b[0mblobs\u001b[0m \u001b[1;33m=\u001b[0m \u001b[0mblobs0\u001b[0m\u001b[1;33m\u001b[0m\u001b[0m\n\u001b[0;32m    197\u001b[0m         \u001b[1;32mif\u001b[0m \u001b[0mlnprob\u001b[0m \u001b[1;32mis\u001b[0m \u001b[1;32mNone\u001b[0m\u001b[1;33m:\u001b[0m\u001b[1;33m\u001b[0m\u001b[0m\n\u001b[1;32m--> 198\u001b[1;33m             \u001b[0mlnprob\u001b[0m\u001b[1;33m,\u001b[0m \u001b[0mblobs\u001b[0m \u001b[1;33m=\u001b[0m \u001b[0mself\u001b[0m\u001b[1;33m.\u001b[0m\u001b[0m_get_lnprob\u001b[0m\u001b[1;33m(\u001b[0m\u001b[0mp\u001b[0m\u001b[1;33m)\u001b[0m\u001b[1;33m\u001b[0m\u001b[0m\n\u001b[0m\u001b[0;32m    199\u001b[0m \u001b[1;33m\u001b[0m\u001b[0m\n\u001b[0;32m    200\u001b[0m         \u001b[1;31m# Check to make sure that the probability function didn't return\u001b[0m\u001b[1;33m\u001b[0m\u001b[1;33m\u001b[0m\u001b[0m\n",
      "\u001b[1;32m~\\Anaconda3\\lib\\site-packages\\emcee-2.1.0-py3.6.egg\\emcee\\ensemble.py\u001b[0m in \u001b[0;36m_get_lnprob\u001b[1;34m(self, pos)\u001b[0m\n\u001b[0;32m    380\u001b[0m \u001b[1;33m\u001b[0m\u001b[0m\n\u001b[0;32m    381\u001b[0m         \u001b[1;31m# Run the log-probability calculations (optionally in parallel).\u001b[0m\u001b[1;33m\u001b[0m\u001b[1;33m\u001b[0m\u001b[0m\n\u001b[1;32m--> 382\u001b[1;33m         \u001b[0mresults\u001b[0m \u001b[1;33m=\u001b[0m \u001b[0mlist\u001b[0m\u001b[1;33m(\u001b[0m\u001b[0mM\u001b[0m\u001b[1;33m(\u001b[0m\u001b[0mself\u001b[0m\u001b[1;33m.\u001b[0m\u001b[0mlnprobfn\u001b[0m\u001b[1;33m,\u001b[0m \u001b[1;33m[\u001b[0m\u001b[0mp\u001b[0m\u001b[1;33m[\u001b[0m\u001b[0mi\u001b[0m\u001b[1;33m]\u001b[0m \u001b[1;32mfor\u001b[0m \u001b[0mi\u001b[0m \u001b[1;32min\u001b[0m \u001b[0mrange\u001b[0m\u001b[1;33m(\u001b[0m\u001b[0mlen\u001b[0m\u001b[1;33m(\u001b[0m\u001b[0mp\u001b[0m\u001b[1;33m)\u001b[0m\u001b[1;33m)\u001b[0m\u001b[1;33m]\u001b[0m\u001b[1;33m)\u001b[0m\u001b[1;33m)\u001b[0m\u001b[1;33m\u001b[0m\u001b[0m\n\u001b[0m\u001b[0;32m    383\u001b[0m \u001b[1;33m\u001b[0m\u001b[0m\n\u001b[0;32m    384\u001b[0m         \u001b[1;32mtry\u001b[0m\u001b[1;33m:\u001b[0m\u001b[1;33m\u001b[0m\u001b[0m\n",
      "\u001b[1;32m~\\Anaconda3\\lib\\site-packages\\emcee-2.1.0-py3.6.egg\\emcee\\interruptible_pool.py\u001b[0m in \u001b[0;36mmap\u001b[1;34m(self, func, iterable, chunksize)\u001b[0m\n\u001b[0;32m     92\u001b[0m         \u001b[1;32mwhile\u001b[0m \u001b[1;32mTrue\u001b[0m\u001b[1;33m:\u001b[0m\u001b[1;33m\u001b[0m\u001b[0m\n\u001b[0;32m     93\u001b[0m             \u001b[1;32mtry\u001b[0m\u001b[1;33m:\u001b[0m\u001b[1;33m\u001b[0m\u001b[0m\n\u001b[1;32m---> 94\u001b[1;33m                 \u001b[1;32mreturn\u001b[0m \u001b[0mr\u001b[0m\u001b[1;33m.\u001b[0m\u001b[0mget\u001b[0m\u001b[1;33m(\u001b[0m\u001b[0mself\u001b[0m\u001b[1;33m.\u001b[0m\u001b[0mwait_timeout\u001b[0m\u001b[1;33m)\u001b[0m\u001b[1;33m\u001b[0m\u001b[0m\n\u001b[0m\u001b[0;32m     95\u001b[0m             \u001b[1;32mexcept\u001b[0m \u001b[0mTimeoutError\u001b[0m\u001b[1;33m:\u001b[0m\u001b[1;33m\u001b[0m\u001b[0m\n\u001b[0;32m     96\u001b[0m                 \u001b[1;32mpass\u001b[0m\u001b[1;33m\u001b[0m\u001b[0m\n",
      "\u001b[1;32m~\\Anaconda3\\lib\\multiprocessing\\pool.py\u001b[0m in \u001b[0;36mget\u001b[1;34m(self, timeout)\u001b[0m\n\u001b[0;32m    636\u001b[0m \u001b[1;33m\u001b[0m\u001b[0m\n\u001b[0;32m    637\u001b[0m     \u001b[1;32mdef\u001b[0m \u001b[0mget\u001b[0m\u001b[1;33m(\u001b[0m\u001b[0mself\u001b[0m\u001b[1;33m,\u001b[0m \u001b[0mtimeout\u001b[0m\u001b[1;33m=\u001b[0m\u001b[1;32mNone\u001b[0m\u001b[1;33m)\u001b[0m\u001b[1;33m:\u001b[0m\u001b[1;33m\u001b[0m\u001b[0m\n\u001b[1;32m--> 638\u001b[1;33m         \u001b[0mself\u001b[0m\u001b[1;33m.\u001b[0m\u001b[0mwait\u001b[0m\u001b[1;33m(\u001b[0m\u001b[0mtimeout\u001b[0m\u001b[1;33m)\u001b[0m\u001b[1;33m\u001b[0m\u001b[0m\n\u001b[0m\u001b[0;32m    639\u001b[0m         \u001b[1;32mif\u001b[0m \u001b[1;32mnot\u001b[0m \u001b[0mself\u001b[0m\u001b[1;33m.\u001b[0m\u001b[0mready\u001b[0m\u001b[1;33m(\u001b[0m\u001b[1;33m)\u001b[0m\u001b[1;33m:\u001b[0m\u001b[1;33m\u001b[0m\u001b[0m\n\u001b[0;32m    640\u001b[0m             \u001b[1;32mraise\u001b[0m \u001b[0mTimeoutError\u001b[0m\u001b[1;33m\u001b[0m\u001b[0m\n",
      "\u001b[1;32m~\\Anaconda3\\lib\\multiprocessing\\pool.py\u001b[0m in \u001b[0;36mwait\u001b[1;34m(self, timeout)\u001b[0m\n\u001b[0;32m    633\u001b[0m \u001b[1;33m\u001b[0m\u001b[0m\n\u001b[0;32m    634\u001b[0m     \u001b[1;32mdef\u001b[0m \u001b[0mwait\u001b[0m\u001b[1;33m(\u001b[0m\u001b[0mself\u001b[0m\u001b[1;33m,\u001b[0m \u001b[0mtimeout\u001b[0m\u001b[1;33m=\u001b[0m\u001b[1;32mNone\u001b[0m\u001b[1;33m)\u001b[0m\u001b[1;33m:\u001b[0m\u001b[1;33m\u001b[0m\u001b[0m\n\u001b[1;32m--> 635\u001b[1;33m         \u001b[0mself\u001b[0m\u001b[1;33m.\u001b[0m\u001b[0m_event\u001b[0m\u001b[1;33m.\u001b[0m\u001b[0mwait\u001b[0m\u001b[1;33m(\u001b[0m\u001b[0mtimeout\u001b[0m\u001b[1;33m)\u001b[0m\u001b[1;33m\u001b[0m\u001b[0m\n\u001b[0m\u001b[0;32m    636\u001b[0m \u001b[1;33m\u001b[0m\u001b[0m\n\u001b[0;32m    637\u001b[0m     \u001b[1;32mdef\u001b[0m \u001b[0mget\u001b[0m\u001b[1;33m(\u001b[0m\u001b[0mself\u001b[0m\u001b[1;33m,\u001b[0m \u001b[0mtimeout\u001b[0m\u001b[1;33m=\u001b[0m\u001b[1;32mNone\u001b[0m\u001b[1;33m)\u001b[0m\u001b[1;33m:\u001b[0m\u001b[1;33m\u001b[0m\u001b[0m\n",
      "\u001b[1;32m~\\Anaconda3\\lib\\threading.py\u001b[0m in \u001b[0;36mwait\u001b[1;34m(self, timeout)\u001b[0m\n\u001b[0;32m    549\u001b[0m             \u001b[0msignaled\u001b[0m \u001b[1;33m=\u001b[0m \u001b[0mself\u001b[0m\u001b[1;33m.\u001b[0m\u001b[0m_flag\u001b[0m\u001b[1;33m\u001b[0m\u001b[0m\n\u001b[0;32m    550\u001b[0m             \u001b[1;32mif\u001b[0m \u001b[1;32mnot\u001b[0m \u001b[0msignaled\u001b[0m\u001b[1;33m:\u001b[0m\u001b[1;33m\u001b[0m\u001b[0m\n\u001b[1;32m--> 551\u001b[1;33m                 \u001b[0msignaled\u001b[0m \u001b[1;33m=\u001b[0m \u001b[0mself\u001b[0m\u001b[1;33m.\u001b[0m\u001b[0m_cond\u001b[0m\u001b[1;33m.\u001b[0m\u001b[0mwait\u001b[0m\u001b[1;33m(\u001b[0m\u001b[0mtimeout\u001b[0m\u001b[1;33m)\u001b[0m\u001b[1;33m\u001b[0m\u001b[0m\n\u001b[0m\u001b[0;32m    552\u001b[0m             \u001b[1;32mreturn\u001b[0m \u001b[0msignaled\u001b[0m\u001b[1;33m\u001b[0m\u001b[0m\n\u001b[0;32m    553\u001b[0m \u001b[1;33m\u001b[0m\u001b[0m\n",
      "\u001b[1;32m~\\Anaconda3\\lib\\threading.py\u001b[0m in \u001b[0;36mwait\u001b[1;34m(self, timeout)\u001b[0m\n\u001b[0;32m    297\u001b[0m             \u001b[1;32melse\u001b[0m\u001b[1;33m:\u001b[0m\u001b[1;33m\u001b[0m\u001b[0m\n\u001b[0;32m    298\u001b[0m                 \u001b[1;32mif\u001b[0m \u001b[0mtimeout\u001b[0m \u001b[1;33m>\u001b[0m \u001b[1;36m0\u001b[0m\u001b[1;33m:\u001b[0m\u001b[1;33m\u001b[0m\u001b[0m\n\u001b[1;32m--> 299\u001b[1;33m                     \u001b[0mgotit\u001b[0m \u001b[1;33m=\u001b[0m \u001b[0mwaiter\u001b[0m\u001b[1;33m.\u001b[0m\u001b[0macquire\u001b[0m\u001b[1;33m(\u001b[0m\u001b[1;32mTrue\u001b[0m\u001b[1;33m,\u001b[0m \u001b[0mtimeout\u001b[0m\u001b[1;33m)\u001b[0m\u001b[1;33m\u001b[0m\u001b[0m\n\u001b[0m\u001b[0;32m    300\u001b[0m                 \u001b[1;32melse\u001b[0m\u001b[1;33m:\u001b[0m\u001b[1;33m\u001b[0m\u001b[0m\n\u001b[0;32m    301\u001b[0m                     \u001b[0mgotit\u001b[0m \u001b[1;33m=\u001b[0m \u001b[0mwaiter\u001b[0m\u001b[1;33m.\u001b[0m\u001b[0macquire\u001b[0m\u001b[1;33m(\u001b[0m\u001b[1;32mFalse\u001b[0m\u001b[1;33m)\u001b[0m\u001b[1;33m\u001b[0m\u001b[0m\n",
      "\u001b[1;31mKeyboardInterrupt\u001b[0m: "
     ]
    }
   ],
   "source": [
    "from astropy import units as u\n",
    "def lnprior(pars):\n",
    "    \"\"\"\n",
    "    Return probability of parameter values according to prior knowledge.\n",
    "    Parameter limits should be done here through uniform prior ditributions\n",
    "    \"\"\"\n",
    "    # Limit norm and B to be positive\n",
    "    logprob = (\n",
    "        naima.uniform_prior(pars[0], 0.0, np.inf)\n",
    "        + naima.uniform_prior(pars[1], -1, 5)\n",
    "        + naima.uniform_prior(pars[3], 0, np.inf)\n",
    "    )\n",
    "\n",
    "    return logprob\n",
    "\n",
    "\n",
    "if __name__ == \"__main__\":\n",
    "\n",
    "    ## Set initial parameters and labels\n",
    "    # Estimate initial magnetic field and get value in uG\n",
    "    B0 = 2 * naima.estimate_B(soft_xray, vhe).to(\"uG\").value\n",
    "\n",
    "    p0 = np.array((33, 2.5, np.log10(48.0), B0))\n",
    "    labels = [\"log10(norm)\", \"index\", \"log10(cutoff)\", \"B\"]\n",
    "\n",
    "    ## Run sampler\n",
    "    sampler, pos = naima.run_sampler(\n",
    "        data_table=[soft_xray, vhe],\n",
    "        p0=p0,\n",
    "        labels=labels,\n",
    "        model=ElectronSynIC,\n",
    "        prior=lnprior,\n",
    "        nwalkers=32,\n",
    "        nburn=100,\n",
    "        nrun=20,\n",
    "        threads=4,\n",
    "        prefit=True,\n",
    "        interactive=False,\n",
    "    )\n",
    "\n",
    "    ## Save run results to HDF5 file (can be read later with naima.read_run)\n",
    "    naima.save_run(\"test\", sampler)\n",
    "\n",
    "    ## Diagnostic plots\n",
    "    naima.save_diagnostic_plots(\n",
    "        \"test\",\n",
    "        sampler,\n",
    "        sed=True,\n",
    "        blob_labels=[\"Spectrum\", \"$W_e$($E_e>1$ TeV)\"],\n",
    "    )\n",
    "    naima.save_results_table(\"test\", sampler)\n"
   ]
  },
  {
   "cell_type": "code",
   "execution_count": null,
   "metadata": {},
   "outputs": [],
   "source": []
  }
 ],
 "metadata": {
  "kernelspec": {
   "display_name": "Python 3",
   "language": "python",
   "name": "python3"
  },
  "language_info": {
   "codemirror_mode": {
    "name": "ipython",
    "version": 3
   },
   "file_extension": ".py",
   "mimetype": "text/x-python",
   "name": "python",
   "nbconvert_exporter": "python",
   "pygments_lexer": "ipython3",
   "version": "3.6.5"
  }
 },
 "nbformat": 4,
 "nbformat_minor": 2
}
